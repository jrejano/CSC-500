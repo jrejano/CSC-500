{
 "cells": [
  {
   "cell_type": "code",
   "execution_count": 1,
   "id": "fd343d5e",
   "metadata": {},
   "outputs": [
    {
     "name": "stdout",
     "output_type": "stream",
     "text": [
      "First Number: 2\n",
      "Second Number: 2\n",
      "Sum:  4\n"
     ]
    }
   ],
   "source": [
    "#find the sum of two numbers\n",
    "\n",
    "num1 = int(input(\"First Number: \"))\n",
    "num2 = int(input(\"Second Number: \"))\n",
    "sum = num1 + num2\n",
    "print (\"Sum: \", sum)"
   ]
  },
  {
   "cell_type": "code",
   "execution_count": 2,
   "id": "dd643347",
   "metadata": {},
   "outputs": [
    {
     "name": "stdout",
     "output_type": "stream",
     "text": [
      "First Number: 4\n",
      "Second Number: 2\n",
      "Difference:  2\n"
     ]
    }
   ],
   "source": [
    "#find the difference between two numbers\n",
    "\n",
    "num1 = int(input(\"First Number: \"))\n",
    "num2 = int(input(\"Second Number: \"))\n",
    "diff = num1 - num2\n",
    "print (\"Difference: \", diff)"
   ]
  },
  {
   "cell_type": "code",
   "execution_count": 3,
   "id": "c43628c6",
   "metadata": {},
   "outputs": [
    {
     "name": "stdout",
     "output_type": "stream",
     "text": [
      "First Number: 12\n",
      "Second Number: 3\n",
      "Product:  36\n"
     ]
    }
   ],
   "source": [
    "#find the product of two numbers\n",
    "\n",
    "num1 = int(input(\"First Number: \"))\n",
    "num2 = int(input(\"Second Number: \"))\n",
    "product = num1 * num2\n",
    "print (\"Product: \", product)"
   ]
  },
  {
   "cell_type": "code",
   "execution_count": 4,
   "id": "58ca4cc6",
   "metadata": {},
   "outputs": [
    {
     "name": "stdout",
     "output_type": "stream",
     "text": [
      "First Number: 44\n",
      "Second Number: 3\n",
      "Divide:  14.666666666666666\n"
     ]
    }
   ],
   "source": [
    "#find the difference between two numbers\n",
    "\n",
    "num1 = int(input(\"First Number: \"))\n",
    "num2 = int(input(\"Second Number: \"))\n",
    "divide = num1 / num2\n",
    "print (\"Divide: \", divide)"
   ]
  },
  {
   "cell_type": "code",
   "execution_count": null,
   "id": "af2b5ad4",
   "metadata": {},
   "outputs": [],
   "source": []
  }
 ],
 "metadata": {
  "kernelspec": {
   "display_name": "Python 3",
   "language": "python",
   "name": "python3"
  },
  "language_info": {
   "codemirror_mode": {
    "name": "ipython",
    "version": 3
   },
   "file_extension": ".py",
   "mimetype": "text/x-python",
   "name": "python",
   "nbconvert_exporter": "python",
   "pygments_lexer": "ipython3",
   "version": "3.8.8"
  },
  "toc": {
   "base_numbering": 1,
   "nav_menu": {},
   "number_sections": false,
   "sideBar": true,
   "skip_h1_title": false,
   "title_cell": "Table of Contents",
   "title_sidebar": "Contents",
   "toc_cell": false,
   "toc_position": {},
   "toc_section_display": true,
   "toc_window_display": false
  }
 },
 "nbformat": 4,
 "nbformat_minor": 5
}
